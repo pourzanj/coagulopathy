{
 "cells": [
  {
   "cell_type": "code",
   "execution_count": 1,
   "metadata": {
    "collapsed": false
   },
   "outputs": [
    {
     "name": "stderr",
     "output_type": "stream",
     "text": [
      "\n",
      "Attaching package: ‘dplyr’\n",
      "\n",
      "The following object is masked from ‘package:stats’:\n",
      "\n",
      "    filter\n",
      "\n",
      "The following objects are masked from ‘package:base’:\n",
      "\n",
      "    intersect, setdiff, setequal, union\n",
      "\n",
      "Loading required package: RPostgreSQL\n",
      "Warning message:\n",
      ": package ‘RPostgreSQL’ was built under R version 3.1.3Loading required package: DBI\n"
     ]
    }
   ],
   "source": [
    "library(dplyr)\n",
    "library(magrittr)\n",
    "library(lubridate)\n",
    "library(stringr)\n",
    "library(reshape2)\n",
    "\n",
    "mimic_db <- src_postgres(dbname=\"mimic\",port=5432,user=\"postgres\",host=\"localhost\")"
   ]
  },
  {
   "cell_type": "markdown",
   "metadata": {},
   "source": [
    "I use the following command to convert the default date format of MIMIC\n",
    "\n",
    "ALTER TABLE admissions ALTER COLUMN edouttime TYPE TIMESTAMP WITH TIME ZONE USING edouttime AT TIME ZONE 'UTC';"
   ]
  },
  {
   "cell_type": "markdown",
   "metadata": {},
   "source": [
    "# View all Admissions and Filter out Non-Trauma"
   ]
  },
  {
   "cell_type": "code",
   "execution_count": 2,
   "metadata": {
    "collapsed": false
   },
   "outputs": [
    {
     "name": "stderr",
     "output_type": "stream",
     "text": [
      "Joining by: c(\"subject_id\", \"hadm_id\")\n",
      "Joining by: \"subject_id\"\n"
     ]
    }
   ],
   "source": [
    "#these are all pointers to POSTGRES they have not been \"collected\" yet\n",
    "diagnosesIcd <- tbl(mimic_db,\"diagnoses_icd\") %>%\n",
    "    filter(icd9_code %like% 'E%') %>%\n",
    "    select(subject_id,hadm_id,icd9_code)\n",
    "\n",
    "demographics <- tbl(mimic_db,\"patients\") %>%\n",
    "    select(subject_id,gender,dob)\n",
    "\n",
    "admissions <- tbl(mimic_db, \"admissions\") %>%\n",
    "    select(subject_id,hadm_id,admittime,dischtime,edregtime,edouttime,deathtime,admission_type,admission_location,diagnosis) %>%\n",
    "    inner_join(diagnosesIcd) %>%\n",
    "    inner_join(demographics)"
   ]
  },
  {
   "cell_type": "code",
   "execution_count": 9,
   "metadata": {
    "collapsed": false,
    "scrolled": true
   },
   "outputs": [],
   "source": [
    "mv <- '([E][8][12][0-9][0-9])'\n",
    "water <- '([E][8][3][0-9][0-9])'\n",
    "otherVehicle <- '([E][8][4][^9][0-9])'\n",
    "falls <- '([E][8][8][0-9][0-9])'\n",
    "burn <- '([E][8][9][0-9][0-9])'\n",
    "penetrated <- '([E][9][1][45][0-9])'\n",
    "other1 <- '([E][9][1][6789][0-9])'\n",
    "other2 <- '([E][9][2][12345][0-9])'\n",
    "homicide <- '([E][9][6][0-9][0-9])'\n",
    "suicide <- '([E][9][5][567][0-9])'\n",
    "unknown <- '([E][9][8][0-9][0-9])'\n",
    "\n",
    "traumaIcd9 <- paste(mv,water,otherVehicle,falls,burn,penetrated,other1,\n",
    "                    other2,homicide,suicide,unknown,sep='|')\n",
    "\n",
    "#dplyr automatically converts date strings to date objects when we collect\n",
    "#we need to convert back to string to store back in to the data base\n",
    "trAdmissionsTemp1 <- admissions %>%\n",
    "    collect %>%\n",
    "    filter(grepl(traumaIcd9,icd9_code)) %>%\n",
    "    mutate_each(\"as.character\",admittime,dischtime,edregtime,edouttime,deathtime,dob) %>%\n",
    "    \n",
    "    filter(admission_location == \"EMERGENCY ROOM ADMIT\") %>%\n",
    "\n",
    "    #we need to convert to string for lubridate to work then back again to put back into postgres\n",
    "    mutate(admittime=ymd_hms(admittime),dob=ymd(dob),age=year(admittime)-year(dob)) %>%\n",
    "    mutate_each(\"as.character\",admittime,dob) %>%\n",
    "    select(-dob)"
   ]
  },
  {
   "cell_type": "code",
   "execution_count": 34,
   "metadata": {
    "collapsed": false
   },
   "outputs": [],
   "source": [
    "admitDischTimes <- trAdmissionsTemp1 %>%\n",
    "    select(subject_id,hadm_id,admittime,dischtime) %>%\n",
    "    mutate_each(funs(ymd_hms),admittime,dischtime)\n",
    "\n",
    "save(admitDischTimes,file=\"/Users/Arya/Petzold/Coagulopathy/mimicPatientView/data/admitDischTimes.Rdata\")"
   ]
  },
  {
   "cell_type": "code",
   "execution_count": 35,
   "metadata": {
    "collapsed": false
   },
   "outputs": [],
   "source": [
    "#convert absolute times to relative times\n",
    "start <- \"2000-01-01 00:00:00\" %>% ymd_hms\n",
    "trAdmissionsTemp2 <- trAdmissionsTemp1 %>%\n",
    "    mutate_each(funs(ymd_hms),admittime,dischtime,edregtime,edouttime,deathtime) %>%\n",
    "    mutate(hoursToAdmit=round(as.numeric(difftime(admittime,edregtime,units=\"hours\")),digits=1)) %>%\n",
    "    mutate(daysInHospital=ceiling(as.numeric(difftime(dischtime,admittime,units=\"days\")))) %>%\n",
    "    mutate(deathtime=ymd_hms(deathtime)) %>%\n",
    "    mutate(admittime=ymd_hms(admittime)) %>%\n",
    "    mutate(deathTime=start+difftime(deathtime,admittime,units=\"secs\")) %>%\n",
    "    select(subject_id,hadm_id,gender,age,admission_location,diagnosis,icd9_code,hoursToAdmit,daysInHospital,deathTime)"
   ]
  },
  {
   "cell_type": "markdown",
   "metadata": {},
   "source": [
    "# Copy the Keys of Trauma Incidences Back to DB and to Rdata"
   ]
  },
  {
   "cell_type": "markdown",
   "metadata": {},
   "source": [
    "Don't copy admissions back to DB until we augment it with other important info such as number of blood units recieved"
   ]
  },
  {
   "cell_type": "code",
   "execution_count": 59,
   "metadata": {
    "collapsed": false
   },
   "outputs": [],
   "source": [
    "#if we get trAdmissions table already exists in postgres database we\n",
    "#can delete it with 'DROP TABLE IF EXISTS \"trAdmissions\";'\n",
    "#mimiciii needs to be in the search path first though with\n",
    "#'SET search_path=test,public,mimiciii;'\n",
    "\n",
    "#we include the registration time in to the ER to compare everyone\n",
    "#on the same time scale\n",
    "trKeys <- trAdmissionsTemp1 %>%\n",
    "    select(subject_id,hadm_id,edregtime,admittime)\n",
    "\n",
    "trKeysPointer <- copy_to(mimic_db,trKeys,temporary=FALSE)"
   ]
  },
  {
   "cell_type": "markdown",
   "metadata": {},
   "source": [
    "# Augment Admissions with Notes and Input Info"
   ]
  },
  {
   "cell_type": "markdown",
   "metadata": {},
   "source": [
    "We'd like to add the following:\n",
    "* injury category (e.g. fall MVC etc.)\n",
    "* injury severity\n",
    "* units of RBC, plt, and ffp recieved"
   ]
  },
  {
   "cell_type": "markdown",
   "metadata": {},
   "source": [
    "## Notes Wrangling"
   ]
  },
  {
   "cell_type": "markdown",
   "metadata": {},
   "source": [
    "### What type of Notes Do we Have?"
   ]
  },
  {
   "cell_type": "code",
   "execution_count": 12,
   "metadata": {
    "collapsed": false
   },
   "outputs": [
    {
     "name": "stdout",
     "output_type": "stream",
     "text": [
      "[1] \"Unique Patients: \"\n"
     ]
    },
    {
     "data": {
      "text/html": [
       "3734"
      ],
      "text/latex": [
       "3734"
      ],
      "text/markdown": [
       "3734"
      ],
      "text/plain": [
       "[1] 3734"
      ]
     },
     "execution_count": 12,
     "metadata": {},
     "output_type": "execute_result"
    }
   ],
   "source": [
    "print(\"Unique Patients: \")\n",
    "tbl(mimic_db,\"trKeys\") %>% collect %>% nrow"
   ]
  },
  {
   "cell_type": "code",
   "execution_count": 13,
   "metadata": {
    "collapsed": false
   },
   "outputs": [
    {
     "name": "stderr",
     "output_type": "stream",
     "text": [
      "Joining by: c(\"subject_id\", \"hadm_id\")\n"
     ]
    }
   ],
   "source": [
    "notesSummary <- tbl(mimic_db,\"noteevents\") %>%\n",
    "    inner_join(trKeysPointer) %>%\n",
    "    group_by(category,subject_id) %>%\n",
    "    summarise(count=n()) %>%\n",
    "    group_by(category) %>%\n",
    "    collect %>%\n",
    "    summarise(uniquePatients=length(unique(subject_id)), medNumNotesPerPatient=median(count))"
   ]
  },
  {
   "cell_type": "code",
   "execution_count": 14,
   "metadata": {
    "collapsed": false
   },
   "outputs": [
    {
     "data": {
      "text/html": [
       "<table>\n",
       "<thead><tr><th></th><th scope=col>category</th><th scope=col>uniquePatients</th><th scope=col>medNumNotesPerPatient</th></tr></thead>\n",
       "<tbody>\n",
       "\t<tr><th scope=row>1</th><td>Case Management </td><td>29</td><td>1</td></tr>\n",
       "\t<tr><th scope=row>2</th><td>Consult</td><td>6</td><td>1</td></tr>\n",
       "\t<tr><th scope=row>3</th><td>Discharge summary</td><td>3323</td><td>1</td></tr>\n",
       "\t<tr><th scope=row>4</th><td>ECG</td><td>2410</td><td>2</td></tr>\n",
       "\t<tr><th scope=row>5</th><td>Echo</td><td>878</td><td>1</td></tr>\n",
       "\t<tr><th scope=row>6</th><td>General</td><td>226</td><td>2</td></tr>\n",
       "\t<tr><th scope=row>7</th><td>Nursing</td><td>897</td><td>13</td></tr>\n",
       "\t<tr><th scope=row>8</th><td>Nursing/other</td><td>2518</td><td>6</td></tr>\n",
       "\t<tr><th scope=row>9</th><td>Nutrition</td><td>300</td><td>2</td></tr>\n",
       "\t<tr><th scope=row>10</th><td>Pharmacy</td><td>3</td><td>1</td></tr>\n",
       "\t<tr><th scope=row>11</th><td>Physician </td><td>888</td><td>7</td></tr>\n",
       "\t<tr><th scope=row>12</th><td>Radiology</td><td>3329</td><td>9</td></tr>\n",
       "\t<tr><th scope=row>13</th><td>Rehab Services</td><td>315</td><td>2</td></tr>\n",
       "\t<tr><th scope=row>14</th><td>Respiratory </td><td>390</td><td>4</td></tr>\n",
       "\t<tr><th scope=row>15</th><td>Social Work</td><td>264</td><td>1</td></tr>\n",
       "</tbody>\n",
       "</table>\n"
      ],
      "text/latex": [
       "\\begin{tabular}{r|lll}\n",
       "  & category & uniquePatients & medNumNotesPerPatient\\\\\n",
       "\\hline\n",
       "\t1 & Case Management  & 29 & 1\\\\\n",
       "\t2 & Consult & 6 & 1\\\\\n",
       "\t3 & Discharge summary & 3323 & 1\\\\\n",
       "\t4 & ECG & 2410 & 2\\\\\n",
       "\t5 & Echo & 878 & 1\\\\\n",
       "\t6 & General & 226 & 2\\\\\n",
       "\t7 & Nursing & 897 & 13\\\\\n",
       "\t8 & Nursing/other & 2518 & 6\\\\\n",
       "\t9 & Nutrition & 300 & 2\\\\\n",
       "\t10 & Pharmacy & 3 & 1\\\\\n",
       "\t11 & Physician  & 888 & 7\\\\\n",
       "\t12 & Radiology & 3329 & 9\\\\\n",
       "\t13 & Rehab Services & 315 & 2\\\\\n",
       "\t14 & Respiratory  & 390 & 4\\\\\n",
       "\t15 & Social Work & 264 & 1\\\\\n",
       "\\end{tabular}\n"
      ],
      "text/plain": [
       "Source: local data frame [15 x 3]\n",
       "\n",
       "            category uniquePatients medNumNotesPerPatient\n",
       "1   Case Management              29                     1\n",
       "2            Consult              6                     1\n",
       "3  Discharge summary           3323                     1\n",
       "4                ECG           2410                     2\n",
       "5               Echo            878                     1\n",
       "6            General            226                     2\n",
       "7            Nursing            897                    13\n",
       "8      Nursing/other           2518                     6\n",
       "9          Nutrition            300                     2\n",
       "10          Pharmacy              3                     1\n",
       "11        Physician             888                     7\n",
       "12         Radiology           3329                     9\n",
       "13    Rehab Services            315                     2\n",
       "14      Respiratory             390                     4\n",
       "15       Social Work            264                     1"
      ]
     },
     "execution_count": 14,
     "metadata": {},
     "output_type": "execute_result"
    }
   ],
   "source": [
    "notesSummary"
   ]
  },
  {
   "cell_type": "markdown",
   "metadata": {},
   "source": [
    "### Wrangle Discharge Notes"
   ]
  },
  {
   "cell_type": "code",
   "execution_count": null,
   "metadata": {
    "collapsed": true
   },
   "outputs": [],
   "source": []
  },
  {
   "cell_type": "markdown",
   "metadata": {},
   "source": [
    "## Wrangle Blood Product Inputs"
   ]
  },
  {
   "cell_type": "code",
   "execution_count": 15,
   "metadata": {
    "collapsed": false
   },
   "outputs": [
    {
     "name": "stderr",
     "output_type": "stream",
     "text": [
      "Joining by: c(\"subject_id\", \"hadm_id\")\n",
      "Joining by: \"itemid\"\n"
     ]
    }
   ],
   "source": [
    "dItemsPointer <- tbl(mimic_db,\"d_items\")\n",
    "\n",
    "trInputCv <- tbl(mimic_db,\"inputevents_cv\") %>%\n",
    "    inner_join(trKeysPointer) %>%\n",
    "    select(subject_id,hadm_id,admittime,itemid,charttime,amount,amountuom,rate,rateuom) %>%\n",
    "    inner_join(dItemsPointer) %>%\n",
    "    select(subject_id,hadm_id,admittime,itemid,label,abbreviation,unitname,category,charttime,amount,amountuom,rate,rateuom) %>%\n",
    "    collect %>%\n",
    "    mutate_each(\"as.character\",charttime,admittime)"
   ]
  },
  {
   "cell_type": "code",
   "execution_count": 16,
   "metadata": {
    "collapsed": false
   },
   "outputs": [
    {
     "name": "stderr",
     "output_type": "stream",
     "text": [
      "Joining by: c(\"subject_id\", \"hadm_id\")\n",
      "Joining by: \"itemid\"\n"
     ]
    }
   ],
   "source": [
    "trInputMv <- tbl(mimic_db,\"inputevents_mv\") %>%\n",
    "    inner_join(trKeysPointer) %>%\n",
    "    select(subject_id,hadm_id,admittime,itemid,starttime,endtime,amount,amountuom,rate,rateuom) %>%\n",
    "    inner_join(dItemsPointer) %>%\n",
    "    select(subject_id,hadm_id,admittime,itemid,label,abbreviation,unitname,category,starttime,endtime,amount,amountuom,rate,rateuom) %>%\n",
    "    collect %>%\n",
    "    mutate_each(\"as.character\",starttime,endtime,admittime)"
   ]
  },
  {
   "cell_type": "markdown",
   "metadata": {},
   "source": [
    "### Consolidate Notes from MV and CV Into a Single Table (MV is newer and does starttime and endtime instead of just rate)"
   ]
  },
  {
   "cell_type": "markdown",
   "metadata": {},
   "source": [
    "for now we will just use charttime as starttime and not worry about end time or rate"
   ]
  },
  {
   "cell_type": "code",
   "execution_count": 17,
   "metadata": {
    "collapsed": false
   },
   "outputs": [],
   "source": [
    "trInputCvTemp <- trInputCv %>%\n",
    "    #mutate(charttime=parse_date_time(charttime,\"%y-%m-%d %H:%M:%S\")) %>%\n",
    "    select(subject_id,hadm_id,admittime,itemid,label,charttime,amount,amountuom)\n",
    "\n",
    "trInput <- trInputMv %>%\n",
    "    mutate(charttime=starttime) %>%\n",
    "    select(subject_id,hadm_id,admittime,itemid,label,charttime,amount,amountuom) %>%\n",
    "    rbind(trInputCvTemp) %>%\n",
    "    mutate(edregtime=ymd_hms(admittime)) %>%\n",
    "    mutate(charttime=ymd_hms(charttime))"
   ]
  },
  {
   "cell_type": "code",
   "execution_count": 36,
   "metadata": {
    "collapsed": false
   },
   "outputs": [],
   "source": [
    "bloodProducts <- ignore.case(\"RBC|FFP|Platelet\")\n",
    "start <- \"2000-01-01 00:00:00\" %>% ymd_hms\n",
    "\n",
    "trBloodProducts <- trInput %>%\n",
    "    filter(str_detect(label,bloodProducts)) %>%\n",
    "    mutate(label=ifelse(str_detect(label,\"RBC\"),\"RBC\",\n",
    "                         ifelse(str_detect(label,\"FFP\"),\"FFP\",\"PLT\"))) %>%\n",
    "    rename(value=amount) %>%\n",
    "    rename(valueuom=amountuom) %>%\n",
    "    mutate(valuenum=value) %>%\n",
    "    mutate(timeSinceAdmit=start+difftime(charttime,admittime,units=\"secs\")) %>%\n",
    "    mutate(measType=\"Transfusion\") %>%\n",
    "    select(subject_id,hadm_id,itemid,label,timeSinceAdmit,value,valuenum,valueuom,measType)"
   ]
  },
  {
   "cell_type": "markdown",
   "metadata": {},
   "source": [
    "### Save as Rdata"
   ]
  },
  {
   "cell_type": "code",
   "execution_count": 37,
   "metadata": {
    "collapsed": false
   },
   "outputs": [],
   "source": [
    "save(trBloodProducts,file=\"/Users/Arya/Petzold/Coagulopathy/mimicPatientView/data/trBloodProducts.Rdata\")"
   ]
  },
  {
   "cell_type": "markdown",
   "metadata": {},
   "source": [
    "### Augment Admissions"
   ]
  },
  {
   "cell_type": "code",
   "execution_count": 19,
   "metadata": {
    "collapsed": false
   },
   "outputs": [
    {
     "name": "stderr",
     "output_type": "stream",
     "text": [
      "Using totalRecordedMg as value column: use value.var to override.\n"
     ]
    }
   ],
   "source": [
    "trBloodProductsSummary <- trBloodProducts %>%\n",
    "    #change NAs to zero, after summary we want NA to represent that the\n",
    "    #patient did not recieve that transfusion NOT that they did recieve it\n",
    "    #it but that it was recorded NA\n",
    "    mutate(valuenum=ifelse(is.na(valuenum),0,valuenum)) %>%\n",
    "    group_by(subject_id,hadm_id,label) %>%\n",
    "    summarise(totalRecordedMg=sum(valuenum,na.rm=TRUE)) %>%\n",
    "    dcast(subject_id+hadm_id~label) %>%\n",
    "    rename(totalFFP=FFP,totalPLT=PLT,totalRBC=RBC)"
   ]
  },
  {
   "cell_type": "code",
   "execution_count": 29,
   "metadata": {
    "collapsed": false
   },
   "outputs": [
    {
     "name": "stderr",
     "output_type": "stream",
     "text": [
      "Joining by: c(\"subject_id\", \"hadm_id\")\n"
     ]
    }
   ],
   "source": [
    "trPatientsTemp2 <- trAdmissionsTemp2 %>%\n",
    "    left_join(trBloodProductsSummary) %>%\n",
    "    select(subject_id,hadm_id,gender,age,admission_location,diagnosis,icd9_code,totalRBC,totalPLT,totalFFP,\n",
    "          hoursToAdmit,daysInHospital,deathTime)"
   ]
  },
  {
   "cell_type": "markdown",
   "metadata": {},
   "source": [
    "## Save Augmented Admissions Back to DB and as Rdata"
   ]
  },
  {
   "cell_type": "code",
   "execution_count": 30,
   "metadata": {
    "collapsed": true
   },
   "outputs": [],
   "source": [
    "trPatients <- trPatientsTemp2\n",
    "save(trPatients,file=\"/Users/Arya/Petzold/Coagulopathy/mimicPatientView/data/trPatients.Rdata\")"
   ]
  },
  {
   "cell_type": "markdown",
   "metadata": {},
   "source": [
    "# Save Chartevents, Labevents, and Output Events For Trauma Patients"
   ]
  },
  {
   "cell_type": "markdown",
   "metadata": {},
   "source": [
    "## Chartevents"
   ]
  },
  {
   "cell_type": "markdown",
   "metadata": {
    "collapsed": false
   },
   "source": [
    "chart events are really large so I wrangle them in the file rePartitionChartEvents.R"
   ]
  },
  {
   "cell_type": "markdown",
   "metadata": {},
   "source": [
    "## Labevents"
   ]
  },
  {
   "cell_type": "code",
   "execution_count": 38,
   "metadata": {
    "collapsed": false
   },
   "outputs": [
    {
     "name": "stderr",
     "output_type": "stream",
     "text": [
      "Joining by: c(\"subject_id\", \"hadm_id\")\n",
      "Joining by: \"itemid\"\n",
      "Warning message:\n",
      ": All formats failed to parse. No formats found."
     ]
    }
   ],
   "source": [
    "dLabItemsPointer <- tbl(mimic_db,\"d_labitems\")\n",
    "\n",
    "trLabEvents <- tbl(mimic_db,\"labevents\") %>%\n",
    "    inner_join(trKeysPointer) %>%\n",
    "    select(subject_id,hadm_id,itemid,charttime,admittime,value,valuenum,valueuom) %>%\n",
    "    left_join(dItemsPointer) %>%\n",
    "    select(subject_id,hadm_id,itemid,label,charttime,admittime,value,valuenum,valueuom) %>%\n",
    "    collect %>%\n",
    "    mutate_each(\"as.character\",charttime,admittime) %>%\n",
    "    mutate(charttime=ymd_hms(charttime)) %>%\n",
    "    mutate(edregtime=ymd_hms(admittime)) %>%\n",
    "    mutate(timeSinceAdmit=start+difftime(charttime,admittime,units=\"secs\")) %>%\n",
    "    mutate(measType=\"Lab\") %>%\n",
    "    select(subject_id,hadm_id,itemid,label,timeSinceAdmit,value,valuenum,valueuom,measType)"
   ]
  },
  {
   "cell_type": "code",
   "execution_count": 39,
   "metadata": {
    "collapsed": true
   },
   "outputs": [],
   "source": [
    "save(trLabEvents,file=\"/Users/Arya/Petzold/Coagulopathy/mimicPatientView/data/trLabEvents.Rdata\")"
   ]
  },
  {
   "cell_type": "markdown",
   "metadata": {},
   "source": [
    "## Combine Chart and Lab Events"
   ]
  },
  {
   "cell_type": "markdown",
   "metadata": {},
   "source": [
    "## Output events"
   ]
  },
  {
   "cell_type": "code",
   "execution_count": null,
   "metadata": {
    "collapsed": true
   },
   "outputs": [],
   "source": []
  },
  {
   "cell_type": "markdown",
   "metadata": {},
   "source": [
    "# Save Transfers for Trauma Patients"
   ]
  },
  {
   "cell_type": "code",
   "execution_count": 64,
   "metadata": {
    "collapsed": false
   },
   "outputs": [
    {
     "name": "stderr",
     "output_type": "stream",
     "text": [
      "Joining by: c(\"subject_id\", \"hadm_id\")\n"
     ]
    }
   ],
   "source": [
    "library(lubridate)\n",
    "\n",
    "start <- \"2000-01-01 00:00:00\" %>% ymd_hms\n",
    "\n",
    "trTransfersEdReg <- trKeysPointer %>%\n",
    "    collect %>%\n",
    "    mutate(edregtime=ymd_hms(edregtime)) %>%\n",
    "    mutate(admittime=ymd_hms(admittime)) %>%\n",
    "    mutate(timeSinceAdmit=start+difftime(edregtime,admittime,units=\"secs\")) %>%\n",
    "\n",
    "    mutate(itemid=as.integer(NA),label=\"Transfer\",value=\"ED\",\n",
    "           valuenum=as.double(subject_id),valueuom=\"\",measType=\"Transfer\",fluid=NA,isFactor=TRUE) %>%\n",
    "    select(subject_id,hadm_id,itemid,label,timeSinceAdmit,value,valuenum,valueuom,measType,)\n",
    "\n",
    "trTransfersTemp <- tbl(mimic_db,\"transfers\") %>%\n",
    "    inner_join(trKeysPointer) %>%\n",
    "    select(subject_id,hadm_id,eventtype,curr_careunit,edregtime,admittime,intime) %>%\n",
    "    \n",
    "    mutate(intimeChr=as.character(intime)) %>%\n",
    "    collect %>%\n",
    "    mutate(intime=intimeChr) %>%\n",
    "    select(-intimeChr) %>%\n",
    "\n",
    "    mutate(intime=ymd_hms(intime)) %>%\n",
    "    mutate(admittime=ymd_hms(admittime)) %>%\n",
    "    mutate(timeSinceAdmit=start+difftime(intime,admittime,units=\"secs\")) %>%\n",
    "\n",
    "    mutate(itemid=as.integer(NA),label=\"Transfer\",value=curr_careunit,\n",
    "           valuenum=as.double(subject_id),valueuom=\"\",measType=\"Transfer\",fluid=NA,isFactor=TRUE) %>%\n",
    "    select(subject_id,hadm_id,itemid,label,timeSinceAdmit,value,valuenum,valueuom,measType,\n",
    "          fluid,isFactor)\n",
    "\n",
    "trTransfers <- rbind(trTransfersEdReg,trTransfersTemp)\n",
    "\n",
    "save(trTransfers,file=\"/Users/Arya/Petzold/Coagulopathy/mimicPatientView/data/trTransfers.Rdata\")"
   ]
  },
  {
   "cell_type": "code",
   "execution_count": 50,
   "metadata": {
    "collapsed": false
   },
   "outputs": [
    {
     "ename": "ERROR",
     "evalue": "Error in as.POSIXlt.character(x, tz, ...): character string is not in a standard unambiguous format\n",
     "output_type": "error",
     "traceback": [
      "Error in as.POSIXlt.character(x, tz, ...): character string is not in a standard unambiguous format\n"
     ]
    },
    {
     "data": {
      "text/plain": [
       "Source: local data frame [15,151 x 6]\n",
       "\n",
       "   subject_id hadm_id eventtype curr_careunit           admittime     intime\n",
       "1          43  146828     admit         TSICU 2186-10-01 16:15:00 2186-10-01\n",
       "2          43  146828  transfer               2186-10-01 16:15:00 2186-10-05\n",
       "3          43  146828  transfer         TSICU 2186-10-01 16:15:00 2186-10-05\n",
       "4          43  146828  transfer               2186-10-01 16:15:00 2186-10-06\n",
       "5          43  146828 discharge               2186-10-01 16:15:00 2186-10-11\n",
       "6          45  157907     admit         TSICU 2129-06-09 17:32:00 2129-06-10\n",
       "7          45  157907  transfer               2129-06-09 17:32:00 2129-06-11\n",
       "8          45  157907  transfer               2129-06-09 17:32:00 2129-06-14\n",
       "9          45  157907  transfer               2129-06-09 17:32:00 2129-06-14\n",
       "10         45  157907  transfer               2129-06-09 17:32:00 2129-06-14\n",
       "..        ...     ...       ...           ...                 ...        ..."
      ]
     },
     "execution_count": 50,
     "metadata": {},
     "output_type": "execute_result"
    }
   ],
   "source": [
    "trTransfers"
   ]
  },
  {
   "cell_type": "code",
   "execution_count": 47,
   "metadata": {
    "collapsed": false
   },
   "outputs": [
    {
     "ename": "ERROR",
     "evalue": "Error in library(ggplot2): there is no package called ‘ggplot2’\n",
     "output_type": "error",
     "traceback": [
      "Error in library(ggplot2): there is no package called ‘ggplot2’\n"
     ]
    },
    {
     "ename": "ERROR",
     "evalue": "Error in eval(expr, envir, enclos): could not find function \"ggplot\"\n",
     "output_type": "error",
     "traceback": [
      "Error in eval(expr, envir, enclos): could not find function \"ggplot\"\n"
     ]
    }
   ],
   "source": [
    "trTransfers %>% ggplot(aes(curr_careunit)) + geom_bar()"
   ]
  },
  {
   "cell_type": "code",
   "execution_count": null,
   "metadata": {
    "collapsed": true
   },
   "outputs": [],
   "source": []
  },
  {
   "cell_type": "code",
   "execution_count": null,
   "metadata": {
    "collapsed": true
   },
   "outputs": [],
   "source": []
  },
  {
   "cell_type": "code",
   "execution_count": null,
   "metadata": {
    "collapsed": true
   },
   "outputs": [],
   "source": []
  },
  {
   "cell_type": "code",
   "execution_count": null,
   "metadata": {
    "collapsed": true
   },
   "outputs": [],
   "source": []
  },
  {
   "cell_type": "code",
   "execution_count": null,
   "metadata": {
    "collapsed": true
   },
   "outputs": [],
   "source": []
  },
  {
   "cell_type": "code",
   "execution_count": null,
   "metadata": {
    "collapsed": true
   },
   "outputs": [],
   "source": []
  },
  {
   "cell_type": "code",
   "execution_count": null,
   "metadata": {
    "collapsed": true
   },
   "outputs": [],
   "source": []
  },
  {
   "cell_type": "code",
   "execution_count": null,
   "metadata": {
    "collapsed": true
   },
   "outputs": [],
   "source": []
  },
  {
   "cell_type": "code",
   "execution_count": null,
   "metadata": {
    "collapsed": true
   },
   "outputs": [],
   "source": []
  },
  {
   "cell_type": "markdown",
   "metadata": {},
   "source": [
    "## How many patients recieved blood?"
   ]
  },
  {
   "cell_type": "code",
   "execution_count": null,
   "metadata": {
    "collapsed": false
   },
   "outputs": [],
   "source": [
    "rbcItems <- tbl(mimic_db,\"d_items\")  %>%\n",
    "    collect %>%\n",
    "    filter(grepl(\"RBC\",label))"
   ]
  },
  {
   "cell_type": "code",
   "execution_count": null,
   "metadata": {
    "collapsed": false
   },
   "outputs": [],
   "source": [
    "rbcItems"
   ]
  },
  {
   "cell_type": "code",
   "execution_count": null,
   "metadata": {
    "collapsed": false
   },
   "outputs": [],
   "source": [
    "recievedRbcCv <- tbl(mimic_db,\"inputevents_cv\") %>%\n",
    "    filter(itemid %in% rbcItems$itemid) %>%\n",
    "    select(subject_id) %>%\n",
    "    collect\n",
    "\n",
    "recievedRbcMv <- tbl(mimic_db,\"inputevents_mv\") %>%\n",
    "    filter(itemid %in% rbcItems$itemid) %>%\n",
    "    select(subject_id) %>%\n",
    "    collect"
   ]
  },
  {
   "cell_type": "code",
   "execution_count": null,
   "metadata": {
    "collapsed": false
   },
   "outputs": [],
   "source": [
    "recievedRbc <- c(unique(recievedRbcCv$subject_id),unique(recievedRbcMv$subject_id))"
   ]
  },
  {
   "cell_type": "code",
   "execution_count": null,
   "metadata": {
    "collapsed": false
   },
   "outputs": [],
   "source": [
    "traumaAdmissions <- traumaAdmissions %>%\n",
    "    mutate(recievedRbc = subject_id %in% recievedRbc)"
   ]
  },
  {
   "cell_type": "code",
   "execution_count": null,
   "metadata": {
    "collapsed": false
   },
   "outputs": [],
   "source": [
    "traumaAdmissions %>%\n",
    "    mutate(died=!is.na(deathtime)) %>%\n",
    "    group_by(recievedRbc) %>%\n",
    "    summarize(total=n(),nDead=sum(died))"
   ]
  },
  {
   "cell_type": "code",
   "execution_count": null,
   "metadata": {
    "collapsed": false
   },
   "outputs": [],
   "source": [
    "library(dplyr)\n",
    "load(file=\"../data/traumaAd.Rdata\")"
   ]
  },
  {
   "cell_type": "markdown",
   "metadata": {},
   "source": [
    "## Don't Rerun Code Past this point!"
   ]
  },
  {
   "cell_type": "code",
   "execution_count": null,
   "metadata": {
    "collapsed": false
   },
   "outputs": [],
   "source": [
    "traumaPatientChartEvents <- tbl(mimic_db,\"chartevents\") %>%\n",
    "    semi_join(trAdKeysDb) %>%\n",
    "    select(subject_id,hadm_id,itemid,charttime,value,valuenum,valueuom) %>%\n",
    "    collect"
   ]
  },
  {
   "cell_type": "code",
   "execution_count": null,
   "metadata": {
    "collapsed": false
   },
   "outputs": [],
   "source": [
    "traumaPatientChartEventsatientChartEventsatientChartEvents"
   ]
  },
  {
   "cell_type": "code",
   "execution_count": null,
   "metadata": {
    "collapsed": false
   },
   "outputs": [],
   "source": [
    "traumaPatientChartEvents <- tbl(mimic_db,\"chartevents\") %>%\n",
    "    semi_join(trAdKeysDb) %>%\n",
    "    select(subject_id,hadm_id,itemid,charttime,value,valuenum,valueuom) %>%\n",
    "    compute(name=\"traumaPatientChartEvents\")"
   ]
  },
  {
   "cell_type": "code",
   "execution_count": null,
   "metadata": {
    "collapsed": false
   },
   "outputs": [],
   "source": [
    "traumaPatientChartEventsLocal <- traumaPatientChartEvents %>% collect"
   ]
  },
  {
   "cell_type": "code",
   "execution_count": null,
   "metadata": {
    "collapsed": true
   },
   "outputs": [],
   "source": [
    "save(traumaPatientChartEventsLocal,file=\"../data/traumaChartEvents.Rdata\")"
   ]
  },
  {
   "cell_type": "code",
   "execution_count": null,
   "metadata": {
    "collapsed": false
   },
   "outputs": [],
   "source": [
    "transfers <- tbl(mimic_db,\"transfers\") %>%\n",
    "    \n",
    "filter(subject_id == 14427,hadm_id==167648) %>%\n",
    "    select(subject_id,hadm_id,icustay_id,dbsource,eventtype,prev_careunit,curr_careunit,intime,outtime)"
   ]
  },
  {
   "cell_type": "code",
   "execution_count": null,
   "metadata": {
    "collapsed": false
   },
   "outputs": [],
   "source": [
    "transfers %>% select(hadm_id,icustay_id,dbsource,eventtype,intime,outtime)"
   ]
  },
  {
   "cell_type": "code",
   "execution_count": null,
   "metadata": {
    "collapsed": true
   },
   "outputs": [],
   "source": [
    "notes <- tbl(mimic_db,\"noteevents\") %>%\n",
    "    filter(subject_id == 14427,hadm_id==167648) %>%\n",
    "    select(subject_id,hadm_id,chartdate,category,description,text) %>%\n",
    "    collect"
   ]
  },
  {
   "cell_type": "code",
   "execution_count": null,
   "metadata": {
    "collapsed": false
   },
   "outputs": [],
   "source": [
    "notes %>% print.data.frame"
   ]
  },
  {
   "cell_type": "code",
   "execution_count": null,
   "metadata": {
    "collapsed": false
   },
   "outputs": [],
   "source": [
    "d_items <- tbl(mimic_db,\"d_items\") %>% collect\n",
    "charts <- tbl(mimic_db,\"chartevents\") %>%\n",
    "    filter(subject_id == 14427,hadm_id==167648) %>%\n",
    "    select(subject_id,hadm_id,itemid,charttime,value,valuenum,valueuom) %>%\n",
    "    collect %>%\n",
    "    left_join(d_items) %>%\n",
    "    select(subject_id,hadm_id,itemid,label,abbreviation,unitname,category,charttime,value,valuenum,valueuom)"
   ]
  },
  {
   "cell_type": "code",
   "execution_count": null,
   "metadata": {
    "collapsed": true
   },
   "outputs": [],
   "source": [
    "d_items <- tbl(mimic_db,\"d_items\") %>% collect\n",
    "charts <- tbl(mimic_db,\"chartevents\") %>%\n",
    "    filter(subject_id %in% traumaAdmissions$subject_id) %>%\n",
    "    select(subject_id,hadm_id,itemid,charttime,value,valuenum,valueuom) %>%\n",
    "    collect\n",
    "    #left_join(d_items) %>%\n",
    "    #select(subject_id,hadm_id,itemid,label,abbreviation,unitname,category,charttime,value,valuenum,valueuom)"
   ]
  },
  {
   "cell_type": "code",
   "execution_count": null,
   "metadata": {
    "collapsed": false
   },
   "outputs": [],
   "source": [
    "charts %>% select(itemid,label,value,valuenum,charttime) %>% arrange(charttime) %>% print.data.frame"
   ]
  },
  {
   "cell_type": "code",
   "execution_count": null,
   "metadata": {
    "collapsed": false
   },
   "outputs": [],
   "source": [
    "charts %>% group_by(itemid,label) %>% summarize(count=n()) %>% ungroup() %>% arrange(desc(count)) %>% print.data.frame"
   ]
  },
  {
   "cell_type": "code",
   "execution_count": null,
   "metadata": {
    "collapsed": true
   },
   "outputs": [],
   "source": [
    "chartIDs <- c(211, #heart rate\n",
    "             549,8456 #post tib pule Right/Left\n",
    "             617,  #resp pattern\n",
    "             618,  #resp rate\n",
    "             646,  #SpO2\n",
    "             455,8441 #systolic/diastolic\n",
    "             678,  #temp.\n",
    "             467,  #breathing device\n",
    "             470,  #O2 flow\n",
    "             524,  #pain level\n",
    "             1087, #pain assessment type\n",
    "             525,  #pain location\n",
    "             522,  #pain cause\n",
    "             527,  #pain type\n",
    "             31,   #activity\n",
    "             32,   #activity tolerance\n",
    "             1337, #Riker-SAS\n",
    "             425,428,593,599,#LLL,LUL,RLL,RUL\n",
    "             80,   #bowel sounds,\n",
    "             156,8381,  #Dorsal PedPulse Right/Left\n",
    "             184,432,454,723,  #eye opening, level of conciousness, motor response, verbal response)\n",
    "             704, #turn\n",
    "             1529, #glucose\n",
    "             77, #behavior\n",
    "             781, #BUN\n",
    "             786, #calcium\n",
    "             787, #CO2\n",
    "             788, #chloride\n",
    "             791, #creatinine\n",
    "             813, #hematocrit\n",
    "             814, #hemoglobin\n",
    "             821, #magnesium\n",
    "             827, #phosporus\n",
    "             828, #platelets\n",
    "             829, #potassium\n",
    "             833, #RBC\n",
    "             837, #sodium\n",
    "             861 #WBC)\n",
    "injuryType <- c(344,352,356,362,374,478,644,8406)\n",
    "charts %>% filter"
   ]
  },
  {
   "cell_type": "code",
   "execution_count": null,
   "metadata": {
    "collapsed": false
   },
   "outputs": [],
   "source": [
    "d_labitems <- tbl(mimic_db,\"d_labitems\") %>% collect\n",
    "labevents <- tbl(mimic_db,\"labevents\") %>%\n",
    "    filter(subject_id == 14427,hadm_id==167648) %>%\n",
    "    select(subject_id,hadm_id,itemid,charttime,value,valuenum,valueuom) %>%\n",
    "    collect %>%\n",
    "    left_join(d_labitems) %>%\n",
    "    select(subject_id,hadm_id,itemid,label,fluid,category,charttime,value,valuenum,valueuom)"
   ]
  },
  {
   "cell_type": "markdown",
   "metadata": {},
   "source": [
    "## Trauma Lab Events"
   ]
  },
  {
   "cell_type": "code",
   "execution_count": null,
   "metadata": {
    "collapsed": false
   },
   "outputs": [],
   "source": [
    "d_labitems <- tbl(mimic_db,\"d_labitems\")\n",
    "labevents <- tbl(mimic_db,\"labevents\") %>%\n",
    "    semi_join(trAdKeysDb) %>%\n",
    "    select(subject_id,hadm_id,itemid,charttime,value,valuenum,valueuom) %>%\n",
    "    left_join(d_labitems) %>%\n",
    "    select(subject_id,hadm_id,itemid,label,fluid,category,charttime,value,valuenum,valueuom) %>%\n",
    "    collect\n",
    "\n",
    "save(labevents,file=\"../data/traumaLabEvents.Rdata\")"
   ]
  },
  {
   "cell_type": "code",
   "execution_count": null,
   "metadata": {
    "collapsed": false
   },
   "outputs": [],
   "source": [
    "labevents %>% arrange(charttime) %>% print.data.frame"
   ]
  },
  {
   "cell_type": "markdown",
   "metadata": {},
   "source": [
    "## Input Save"
   ]
  },
  {
   "cell_type": "code",
   "execution_count": null,
   "metadata": {
    "collapsed": true
   },
   "outputs": [],
   "source": [
    "input <- tbl(mimic_db,\"inputevents_cv\") %>%\n",
    "    filter(subject_id == 14427,hadm_id==167648) %>%\n",
    "    select(subject_id,hadm_id,itemid,charttime,amount,amountuom,rate,rateuom) %>%\n",
    "    collect %>%\n",
    "    left_join(d_items) %>%\n",
    "    select(subject_id,hadm_id,itemid,label,abbreviation,unitname,category,charttime,amount,amountuom,rate,rateuom)"
   ]
  },
  {
   "cell_type": "code",
   "execution_count": null,
   "metadata": {
    "collapsed": false
   },
   "outputs": [],
   "source": [
    "d_items <- tbl(mimic_db,\"d_items\")\n",
    "trInputCv <- tbl(mimic_db,\"inputevents_cv\") %>%\n",
    "    semi_join(trAdKeysDb) %>%\n",
    "    select(subject_id,hadm_id,itemid,charttime,amount,amountuom,rate,rateuom) %>%\n",
    "    left_join(d_items) %>%\n",
    "    select(subject_id,hadm_id,itemid,label,abbreviation,unitname,category,charttime,amount,amountuom,rate,rateuom) %>%\n",
    "    collect\n",
    "\n",
    "save(trInputCv,file=\"../data/traumaInputEventsCv.Rdata\")"
   ]
  },
  {
   "cell_type": "code",
   "execution_count": null,
   "metadata": {
    "collapsed": false
   },
   "outputs": [],
   "source": [
    "d_items <- tbl(mimic_db,\"d_items\")\n",
    "trInputMv <- tbl(mimic_db,\"inputevents_mv\") %>%\n",
    "    semi_join(trAdKeysDb) %>%\n",
    "    select(subject_id,hadm_id,itemid,starttime,endtime,amount,amountuom,rate,rateuom) %>%\n",
    "    left_join(d_items) %>%\n",
    "    select(subject_id,hadm_id,itemid,label,abbreviation,unitname,category,starttime,endtime,amount,amountuom,rate,rateuom) %>%\n",
    "    collect\n",
    "\n",
    "save(trInputMv,file=\"../data/traumaInputEventsMv.Rdata\")"
   ]
  },
  {
   "cell_type": "code",
   "execution_count": null,
   "metadata": {
    "collapsed": false
   },
   "outputs": [],
   "source": [
    "trInputCv$charttime"
   ]
  },
  {
   "cell_type": "markdown",
   "metadata": {},
   "source": [
    "## Output"
   ]
  },
  {
   "cell_type": "code",
   "execution_count": null,
   "metadata": {
    "collapsed": false
   },
   "outputs": [],
   "source": [
    "d_items <- tbl(mimic_db,\"d_items\")\n",
    "trOutput <- tbl(mimic_db,\"outputevents\") %>%\n",
    "    semi_join(trAdKeysDb) %>%\n",
    "    select(subject_id,hadm_id,itemid,charttime,value,valueuom) %>%\n",
    "    left_join(d_items) %>%\n",
    "    select(subject_id,hadm_id,itemid,label,abbreviation,unitname,category,charttime,value,valueuom) %>%\n",
    "    collect\n",
    "\n",
    "save(trInput,file=\"../data/traumaOutputEvents.Rdata\")"
   ]
  },
  {
   "cell_type": "markdown",
   "metadata": {},
   "source": [
    "## 28778 \t157124"
   ]
  },
  {
   "cell_type": "code",
   "execution_count": null,
   "metadata": {
    "collapsed": true
   },
   "outputs": [],
   "source": [
    "transfers <- tbl(mimic_db,\"transfers\") %>%\n",
    "    filter(subject_id == 28778,hadm_id==157124) %>%\n",
    "    select(subject_id,hadm_id,icustay_id,dbsource,eventtype,prev_careunit,curr_careunit,intime,outtime)"
   ]
  },
  {
   "cell_type": "code",
   "execution_count": null,
   "metadata": {
    "collapsed": false
   },
   "outputs": [],
   "source": [
    "transfers %>% select(hadm_id,icustay_id,prev_careunit,dbsource,eventtype,intime,outtime)"
   ]
  },
  {
   "cell_type": "code",
   "execution_count": null,
   "metadata": {
    "collapsed": true
   },
   "outputs": [],
   "source": [
    "notes <- tbl(mimic_db,\"noteevents\") %>%\n",
    "    filter(subject_id == 28778,hadm_id==157124) %>%\n",
    "    select(subject_id,hadm_id,chartdate,category,description,text) %>%\n",
    "    collect"
   ]
  },
  {
   "cell_type": "code",
   "execution_count": null,
   "metadata": {
    "collapsed": false
   },
   "outputs": [],
   "source": [
    "notes %>% print.data.frame"
   ]
  },
  {
   "cell_type": "code",
   "execution_count": null,
   "metadata": {
    "collapsed": false
   },
   "outputs": [],
   "source": [
    "d_items <- tbl(mimic_db,\"d_items\") %>% collect\n",
    "charts <- tbl(mimic_db,\"chartevents\") %>%\n",
    "    filter(subject_id == 14427,hadm_id==167648) %>%\n",
    "    select(subject_id,hadm_id,itemid,charttime,value,valuenum,valueuom) %>%\n",
    "    collect %>%\n",
    "    left_join(d_items) %>%\n",
    "    select(subject_id,hadm_id,itemid,label,abbreviation,unitname,category,charttime,value,valuenum,valueuom)"
   ]
  },
  {
   "cell_type": "code",
   "execution_count": null,
   "metadata": {
    "collapsed": false
   },
   "outputs": [],
   "source": [
    "charts %>% select(itemid,label,value,valuenum,charttime) %>% arrange(charttime) %>% print.data.frame"
   ]
  },
  {
   "cell_type": "code",
   "execution_count": null,
   "metadata": {
    "collapsed": true
   },
   "outputs": [],
   "source": []
  },
  {
   "cell_type": "code",
   "execution_count": null,
   "metadata": {
    "collapsed": false
   },
   "outputs": [],
   "source": [
    "input <- tbl(mimic_db,\"inputevents_cv\") %>%\n",
    "    filter(subject_id == 14427,hadm_id==167648) %>%\n",
    "    select(subject_id,hadm_id,itemid,charttime,amount,amountuom,rate,rateuom) %>%\n",
    "    collect %>%\n",
    "    left_join(d_items) %>%\n",
    "    select(subject_id,hadm_id,itemid,label,abbreviation,unitname,category,charttime,amount,amountuom,rate,rateuom)"
   ]
  }
 ],
 "metadata": {
  "kernelspec": {
   "display_name": "R",
   "language": "R",
   "name": "ir"
  },
  "language_info": {
   "codemirror_mode": "r",
   "file_extension": ".r",
   "mimetype": "text/x-r-source",
   "name": "R",
   "pygments_lexer": "r",
   "version": "3.1.2"
  }
 },
 "nbformat": 4,
 "nbformat_minor": 0
}
